{
 "cells": [
  {
   "attachments": {},
   "cell_type": "markdown",
   "metadata": {},
   "source": [
    "# Predictive Used Car Prices"
   ]
  },
  {
   "attachments": {},
   "cell_type": "markdown",
   "metadata": {},
   "source": [
    "Utilizes pandas for data handling, sklearn for preprocessing (including one-hot encoding and scaling with **StandardScaler**), and **GridSearchCV** for hyperparameter tuning with **HistGradientBoostingRegressor** as the chosen machine learning model."
   ]
  },
  {
   "cell_type": "code",
   "execution_count": 15,
   "metadata": {},
   "outputs": [],
   "source": [
    "import pandas as pd\n",
    "from sklearn.preprocessing import StandardScaler\n",
    "from sklearn.model_selection import train_test_split, GridSearchCV\n",
    "from sklearn.experimental import enable_hist_gradient_boosting\n",
    "from sklearn.ensemble import HistGradientBoostingRegressor\n",
    "from sklearn.metrics import mean_squared_error\n",
    "import numpy as np\n",
    "import zipfile\n",
    "\n",
    "# Load the training and test data\n",
    "train_data = pd.read_csv('train.csv')\n",
    "test_data = pd.read_csv('test.csv')\n",
    "\n",
    "# Preserve the 'id' column from the test data\n",
    "test_ids = test_data['id']\n",
    "\n",
    "# Convert categorical variables using one-hot encoding\n",
    "train_data = pd.get_dummies(train_data)\n",
    "test_data = pd.get_dummies(test_data)\n",
    "\n",
    "# Align the train and test data to have the same columns\n",
    "train_data, test_data = train_data.align(test_data, join='left', axis=1, fill_value=0)\n",
    "\n",
    "# Remove the 'price' column from the test data\n",
    "if 'price' in test_data.columns:\n",
    "    test_data = test_data.drop(['price'], axis=1)\n",
    "\n",
    "# Scale numerical features\n",
    "scaler = StandardScaler()\n",
    "numerical_columns = train_data.select_dtypes(include=['int64', 'float64']).columns.drop('price')\n",
    "train_data[numerical_columns] = scaler.fit_transform(train_data[numerical_columns])\n",
    "test_data[numerical_columns] = scaler.transform(test_data[numerical_columns])\n",
    "\n",
    "# Define target and features\n",
    "X = train_data.drop(['price'], axis=1)\n",
    "y = train_data['price']\n",
    "\n",
    "assert test_data.shape[0] == 36183, f\"Expected 36183 rows in test data, but got {test_data.shape[0]}\"\n"
   ]
  },
  {
   "cell_type": "code",
   "execution_count": 16,
   "metadata": {},
   "outputs": [
    {
     "name": "stdout",
     "output_type": "stream",
     "text": [
      "Fitting 3 folds for each of 24 candidates, totalling 72 fits\n"
     ]
    },
    {
     "name": "stderr",
     "output_type": "stream",
     "text": [
      "/Users/zoeyespinoza/anaconda3/lib/python3.10/site-packages/pandas/core/arrays/masked.py:60: UserWarning: Pandas requires version '1.3.6' or newer of 'bottleneck' (version '1.3.5' currently installed).\n",
      "  from pandas.core import (\n",
      "/Users/zoeyespinoza/anaconda3/lib/python3.10/site-packages/pandas/core/arrays/masked.py:60: UserWarning: Pandas requires version '1.3.6' or newer of 'bottleneck' (version '1.3.5' currently installed).\n",
      "  from pandas.core import (\n",
      "/Users/zoeyespinoza/anaconda3/lib/python3.10/site-packages/pandas/core/arrays/masked.py:60: UserWarning: Pandas requires version '1.3.6' or newer of 'bottleneck' (version '1.3.5' currently installed).\n",
      "  from pandas.core import (\n",
      "/Users/zoeyespinoza/anaconda3/lib/python3.10/site-packages/pandas/core/arrays/masked.py:60: UserWarning: Pandas requires version '1.3.6' or newer of 'bottleneck' (version '1.3.5' currently installed).\n",
      "  from pandas.core import (\n",
      "/Users/zoeyespinoza/anaconda3/lib/python3.10/site-packages/pandas/core/arrays/masked.py:60: UserWarning: Pandas requires version '1.3.6' or newer of 'bottleneck' (version '1.3.5' currently installed).\n",
      "  from pandas.core import (\n",
      "/Users/zoeyespinoza/anaconda3/lib/python3.10/site-packages/pandas/core/arrays/masked.py:60: UserWarning: Pandas requires version '1.3.6' or newer of 'bottleneck' (version '1.3.5' currently installed).\n",
      "  from pandas.core import (\n",
      "/Users/zoeyespinoza/anaconda3/lib/python3.10/site-packages/pandas/core/arrays/masked.py:60: UserWarning: Pandas requires version '1.3.6' or newer of 'bottleneck' (version '1.3.5' currently installed).\n",
      "  from pandas.core import (\n",
      "/Users/zoeyespinoza/anaconda3/lib/python3.10/site-packages/pandas/core/arrays/masked.py:60: UserWarning: Pandas requires version '1.3.6' or newer of 'bottleneck' (version '1.3.5' currently installed).\n",
      "  from pandas.core import (\n",
      "/Users/zoeyespinoza/anaconda3/lib/python3.10/site-packages/pandas/core/arrays/masked.py:60: UserWarning: Pandas requires version '1.3.6' or newer of 'bottleneck' (version '1.3.5' currently installed).\n",
      "  from pandas.core import (\n",
      "/Users/zoeyespinoza/anaconda3/lib/python3.10/site-packages/pandas/core/arrays/masked.py:60: UserWarning: Pandas requires version '1.3.6' or newer of 'bottleneck' (version '1.3.5' currently installed).\n",
      "  from pandas.core import (\n",
      "/Users/zoeyespinoza/anaconda3/lib/python3.10/site-packages/pandas/core/arrays/masked.py:60: UserWarning: Pandas requires version '1.3.6' or newer of 'bottleneck' (version '1.3.5' currently installed).\n",
      "  from pandas.core import (\n",
      "/Users/zoeyespinoza/anaconda3/lib/python3.10/site-packages/pandas/core/arrays/masked.py:60: UserWarning: Pandas requires version '1.3.6' or newer of 'bottleneck' (version '1.3.5' currently installed).\n",
      "  from pandas.core import (\n"
     ]
    },
    {
     "name": "stdout",
     "output_type": "stream",
     "text": [
      "[CV] END learning_rate=0.01, max_depth=3, max_iter=100, min_samples_leaf=20; total time= 2.2min\n",
      "[CV] END learning_rate=0.01, max_depth=3, max_iter=100, min_samples_leaf=50; total time= 2.2min\n",
      "[CV] END learning_rate=0.01, max_depth=3, max_iter=100, min_samples_leaf=20; total time= 2.2min\n",
      "[CV] END learning_rate=0.01, max_depth=3, max_iter=100, min_samples_leaf=20; total time= 2.3min\n",
      "[CV] END learning_rate=0.01, max_depth=3, max_iter=100, min_samples_leaf=50; total time= 2.3min\n",
      "[CV] END learning_rate=0.01, max_depth=3, max_iter=100, min_samples_leaf=50; total time= 2.3min\n",
      "[CV] END learning_rate=0.01, max_depth=3, max_iter=200, min_samples_leaf=50; total time= 3.4min\n",
      "[CV] END learning_rate=0.01, max_depth=3, max_iter=200, min_samples_leaf=50; total time= 3.4min\n",
      "[CV] END learning_rate=0.01, max_depth=3, max_iter=200, min_samples_leaf=20; total time= 3.4min\n",
      "[CV] END learning_rate=0.01, max_depth=3, max_iter=200, min_samples_leaf=20; total time= 3.5min\n",
      "[CV] END learning_rate=0.01, max_depth=3, max_iter=200, min_samples_leaf=20; total time= 3.5min\n",
      "[CV] END learning_rate=0.01, max_depth=3, max_iter=200, min_samples_leaf=50; total time= 3.5min\n",
      "[CV] END learning_rate=0.01, max_depth=5, max_iter=100, min_samples_leaf=20; total time= 2.4min\n",
      "[CV] END learning_rate=0.01, max_depth=5, max_iter=100, min_samples_leaf=20; total time= 2.4min\n",
      "[CV] END learning_rate=0.01, max_depth=5, max_iter=100, min_samples_leaf=20; total time= 2.5min\n",
      "[CV] END learning_rate=0.01, max_depth=5, max_iter=100, min_samples_leaf=50; total time= 2.6min\n",
      "[CV] END learning_rate=0.01, max_depth=5, max_iter=100, min_samples_leaf=50; total time= 2.7min\n",
      "[CV] END learning_rate=0.01, max_depth=5, max_iter=100, min_samples_leaf=50; total time= 2.7min\n",
      "[CV] END learning_rate=0.01, max_depth=5, max_iter=200, min_samples_leaf=20; total time= 4.2min\n",
      "[CV] END learning_rate=0.01, max_depth=5, max_iter=200, min_samples_leaf=20; total time= 4.3min\n",
      "[CV] END learning_rate=0.01, max_depth=5, max_iter=200, min_samples_leaf=20; total time= 4.3min\n",
      "[CV] END learning_rate=0.01, max_depth=5, max_iter=200, min_samples_leaf=50; total time= 4.5min\n",
      "[CV] END learning_rate=0.01, max_depth=5, max_iter=200, min_samples_leaf=50; total time= 4.7min\n",
      "[CV] END learning_rate=0.01, max_depth=10, max_iter=100, min_samples_leaf=20; total time= 3.6min\n",
      "[CV] END learning_rate=0.01, max_depth=5, max_iter=200, min_samples_leaf=50; total time= 4.8min\n",
      "[CV] END learning_rate=0.01, max_depth=10, max_iter=100, min_samples_leaf=20; total time= 3.6min\n",
      "[CV] END learning_rate=0.01, max_depth=10, max_iter=100, min_samples_leaf=20; total time= 3.7min\n",
      "[CV] END learning_rate=0.01, max_depth=10, max_iter=100, min_samples_leaf=50; total time= 4.0min\n",
      "[CV] END learning_rate=0.01, max_depth=10, max_iter=100, min_samples_leaf=50; total time= 4.0min\n",
      "[CV] END learning_rate=0.01, max_depth=10, max_iter=100, min_samples_leaf=50; total time= 4.0min\n",
      "[CV] END learning_rate=0.1, max_depth=3, max_iter=100, min_samples_leaf=20; total time= 1.1min\n",
      "[CV] END learning_rate=0.1, max_depth=3, max_iter=100, min_samples_leaf=20; total time= 1.2min\n",
      "[CV] END learning_rate=0.1, max_depth=3, max_iter=100, min_samples_leaf=20; total time= 1.2min\n",
      "[CV] END learning_rate=0.1, max_depth=3, max_iter=100, min_samples_leaf=50; total time= 1.0min\n"
     ]
    },
    {
     "name": "stderr",
     "output_type": "stream",
     "text": [
      "/Users/zoeyespinoza/anaconda3/lib/python3.10/site-packages/joblib/externals/loky/process_executor.py:702: UserWarning: A worker stopped while some jobs were given to the executor. This can be caused by a too short worker timeout or by a memory leak.\n",
      "  warnings.warn(\n",
      "/Users/zoeyespinoza/anaconda3/lib/python3.10/site-packages/pandas/core/arrays/masked.py:60: UserWarning: Pandas requires version '1.3.6' or newer of 'bottleneck' (version '1.3.5' currently installed).\n",
      "  from pandas.core import (\n"
     ]
    },
    {
     "name": "stdout",
     "output_type": "stream",
     "text": [
      "[CV] END learning_rate=0.1, max_depth=3, max_iter=200, min_samples_leaf=20; total time=  49.8s\n",
      "[CV] END learning_rate=0.1, max_depth=3, max_iter=100, min_samples_leaf=50; total time= 1.3min\n",
      "[CV] END learning_rate=0.1, max_depth=3, max_iter=100, min_samples_leaf=50; total time= 1.3min\n",
      "[CV] END learning_rate=0.1, max_depth=3, max_iter=200, min_samples_leaf=20; total time= 1.0min\n",
      "[CV] END learning_rate=0.1, max_depth=3, max_iter=200, min_samples_leaf=20; total time= 1.0min\n",
      "[CV] END learning_rate=0.1, max_depth=3, max_iter=200, min_samples_leaf=50; total time=  59.2s\n",
      "[CV] END learning_rate=0.1, max_depth=5, max_iter=100, min_samples_leaf=20; total time= 1.1min\n",
      "[CV] END learning_rate=0.1, max_depth=3, max_iter=200, min_samples_leaf=50; total time= 1.3min\n",
      "[CV] END learning_rate=0.1, max_depth=3, max_iter=200, min_samples_leaf=50; total time= 1.3min\n",
      "[CV] END learning_rate=0.1, max_depth=5, max_iter=100, min_samples_leaf=20; total time= 1.2min\n",
      "[CV] END learning_rate=0.1, max_depth=5, max_iter=100, min_samples_leaf=20; total time= 1.2min\n",
      "[CV] END learning_rate=0.1, max_depth=5, max_iter=100, min_samples_leaf=50; total time= 1.1min\n",
      "[CV] END learning_rate=0.1, max_depth=5, max_iter=100, min_samples_leaf=50; total time= 1.3min\n",
      "[CV] END learning_rate=0.1, max_depth=5, max_iter=100, min_samples_leaf=50; total time= 1.3min\n",
      "[CV] END learning_rate=0.1, max_depth=5, max_iter=200, min_samples_leaf=20; total time= 1.2min\n"
     ]
    },
    {
     "name": "stderr",
     "output_type": "stream",
     "text": [
      "/Users/zoeyespinoza/anaconda3/lib/python3.10/site-packages/pandas/core/arrays/masked.py:60: UserWarning: Pandas requires version '1.3.6' or newer of 'bottleneck' (version '1.3.5' currently installed).\n",
      "  from pandas.core import (\n"
     ]
    },
    {
     "name": "stdout",
     "output_type": "stream",
     "text": [
      "[CV] END learning_rate=0.1, max_depth=5, max_iter=200, min_samples_leaf=20; total time= 1.2min\n",
      "[CV] END learning_rate=0.01, max_depth=10, max_iter=200, min_samples_leaf=20; total time= 5.4min\n",
      "[CV] END learning_rate=0.01, max_depth=10, max_iter=200, min_samples_leaf=20; total time= 5.4min\n",
      "[CV] END learning_rate=0.1, max_depth=5, max_iter=200, min_samples_leaf=20; total time= 1.3min\n",
      "[CV] END learning_rate=0.1, max_depth=5, max_iter=200, min_samples_leaf=50; total time= 1.2min\n",
      "[CV] END learning_rate=0.01, max_depth=10, max_iter=200, min_samples_leaf=20; total time= 5.9min\n",
      "[CV] END learning_rate=0.1, max_depth=5, max_iter=200, min_samples_leaf=50; total time= 1.4min\n",
      "[CV] END learning_rate=0.1, max_depth=5, max_iter=200, min_samples_leaf=50; total time= 1.4min\n",
      "[CV] END learning_rate=0.1, max_depth=10, max_iter=100, min_samples_leaf=20; total time= 1.3min\n",
      "[CV] END learning_rate=0.1, max_depth=10, max_iter=100, min_samples_leaf=20; total time= 1.3min\n",
      "[CV] END learning_rate=0.1, max_depth=10, max_iter=100, min_samples_leaf=20; total time= 1.7min\n",
      "[CV] END learning_rate=0.1, max_depth=10, max_iter=100, min_samples_leaf=50; total time= 1.6min\n",
      "[CV] END learning_rate=0.1, max_depth=10, max_iter=200, min_samples_leaf=20; total time= 1.2min\n",
      "[CV] END learning_rate=0.1, max_depth=10, max_iter=100, min_samples_leaf=50; total time= 1.8min\n",
      "[CV] END learning_rate=0.1, max_depth=10, max_iter=100, min_samples_leaf=50; total time= 1.6min\n",
      "[CV] END learning_rate=0.01, max_depth=10, max_iter=200, min_samples_leaf=50; total time= 7.2min\n",
      "[CV] END learning_rate=0.1, max_depth=10, max_iter=200, min_samples_leaf=20; total time= 1.1min\n",
      "[CV] END learning_rate=0.1, max_depth=10, max_iter=200, min_samples_leaf=50; total time= 1.2min\n",
      "[CV] END learning_rate=0.01, max_depth=10, max_iter=200, min_samples_leaf=50; total time= 7.2min\n",
      "[CV] END learning_rate=0.1, max_depth=10, max_iter=200, min_samples_leaf=20; total time= 1.3min\n",
      "[CV] END learning_rate=0.01, max_depth=10, max_iter=200, min_samples_leaf=50; total time= 7.4min\n",
      "[CV] END learning_rate=0.1, max_depth=10, max_iter=200, min_samples_leaf=50; total time= 1.3min\n",
      "[CV] END learning_rate=0.1, max_depth=10, max_iter=200, min_samples_leaf=50; total time=  59.1s\n",
      "Best Parameters: {'learning_rate': 0.1, 'max_depth': 3, 'max_iter': 100, 'min_samples_leaf': 50}\n",
      "Best RMSE: 73062.70185166207\n"
     ]
    }
   ],
   "source": [
    "# Split the data into training and validation sets\n",
    "X_train, X_val, y_train, y_val = train_test_split(X, y, test_size=0.2, random_state=42)\n",
    "\n",
    "# Define the parameters for Grid Search\n",
    "param_grid = {\n",
    "    'learning_rate': [0.01, 0.1],\n",
    "    'max_iter': [100, 200],\n",
    "    'max_depth': [3, 5, 10],\n",
    "    'min_samples_leaf': [20, 50]\n",
    "}\n",
    "\n",
    "# Gradient Boosting model\n",
    "gb_model = HistGradientBoostingRegressor(random_state=42)\n",
    "\n",
    "# Grid Search\n",
    "grid_search = GridSearchCV(estimator=gb_model, param_grid=param_grid, cv=3, n_jobs=-1, verbose=2, scoring='neg_mean_squared_error')\n",
    "\n",
    "# Fit Grid Search to the data\n",
    "grid_search.fit(X_train, y_train)\n",
    "\n",
    "best_params = grid_search.best_params_\n",
    "best_score = np.sqrt(-grid_search.best_score_)\n",
    "print(f'Best Parameters: {best_params}')\n",
    "print(f'Best RMSE: {best_score}')\n"
   ]
  },
  {
   "cell_type": "code",
   "execution_count": 17,
   "metadata": {},
   "outputs": [
    {
     "name": "stdout",
     "output_type": "stream",
     "text": [
      "RMSE (Best Gradient Boosting): 48139.49797036673\n"
     ]
    }
   ],
   "source": [
    "# Train the Gradient Boosting model with the best parameters\n",
    "best_gb_model = HistGradientBoostingRegressor(**best_params, random_state=42)\n",
    "best_gb_model.fit(X_train, y_train)\n",
    "\n",
    "y_pred_best_gb = best_gb_model.predict(X_val)\n",
    "\n",
    "# Calculate RMSE for the best model\n",
    "rmse_best_gb = np.sqrt(mean_squared_error(y_val, y_pred_best_gb))\n",
    "print(f'RMSE (Best Gradient Boosting): {rmse_best_gb}')\n"
   ]
  },
  {
   "cell_type": "code",
   "execution_count": 18,
   "metadata": {},
   "outputs": [
    {
     "name": "stdout",
     "output_type": "stream",
     "text": [
      "Submission file saved as submission.csv\n",
      "Submission file zipped as submission.zip\n"
     ]
    }
   ],
   "source": [
    "# Make predictions on the test set\n",
    "test_predictions = best_gb_model.predict(test_data)\n",
    "\n",
    "submission = pd.DataFrame({\n",
    "    'id': test_ids,  \n",
    "    'price': test_predictions\n",
    "})\n",
    "\n",
    "assert submission.shape[0] == 36183, f\"Expected 36183 rows in submission, but got {submission.shape[0]}\"\n",
    "\n",
    "# Save the submission file\n",
    "submission.to_csv('submission.csv', index=False)\n",
    "print('Submission file saved as submission.csv')\n",
    "\n",
    "with zipfile.ZipFile('submission.zip', 'w') as zf:\n",
    "    zf.write('submission.csv')\n",
    "\n",
    "print('Submission file zipped as submission.zip')\n"
   ]
  }
 ],
 "metadata": {
  "kernelspec": {
   "display_name": "base",
   "language": "python",
   "name": "python3"
  },
  "language_info": {
   "codemirror_mode": {
    "name": "ipython",
    "version": 3
   },
   "file_extension": ".py",
   "mimetype": "text/x-python",
   "name": "python",
   "nbconvert_exporter": "python",
   "pygments_lexer": "ipython3",
   "version": "3.10.9"
  },
  "orig_nbformat": 4
 },
 "nbformat": 4,
 "nbformat_minor": 2
}
